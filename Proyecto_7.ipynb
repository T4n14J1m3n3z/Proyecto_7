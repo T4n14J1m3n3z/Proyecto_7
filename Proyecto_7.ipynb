{
 "cells": [
  {
   "cell_type": "markdown",
   "metadata": {},
   "source": [
    "# <center>**PROYECTO 7**</center> "
   ]
  },
  {
   "cell_type": "markdown",
   "metadata": {},
   "source": [
    "## Paso 4. Análisis exploratorio de datos (Python)\n",
    "\n",
    "Las instrucciones para el próximo análisis es el siguiente:\n",
    "* importar los archivos\n",
    "* estudiar los datos que contienen\n",
    "* asegurar que los tipos de datos sean correctos\n",
    "* identificar los 10 principales barrios en términos de finalización del recorrido\n",
    "* hacer gráficos: empresas de taxis y número de viajes, los 10 barrios principales por número de finalizaciones\n",
    "* sacar conclusiones basadas en cada gráfico y explicar los resultados"
   ]
  },
  {
   "cell_type": "code",
   "execution_count": 1,
   "metadata": {},
   "outputs": [],
   "source": [
    "# Cargar todas las librerías que se necesitarán\n",
    "import matplotlib.pyplot as plt\n",
    "import numpy as np\n",
    "import pandas as pd\n",
    "from scipy import stats as st\n",
    "import seaborn as sns\n",
    "from scipy.stats import levene"
   ]
  },
  {
   "cell_type": "code",
   "execution_count": 2,
   "metadata": {},
   "outputs": [
    {
     "name": "stdout",
     "output_type": "stream",
     "text": [
      "<class 'pandas.core.frame.DataFrame'>\n",
      "RangeIndex: 64 entries, 0 to 63\n",
      "Data columns (total 2 columns):\n",
      " #   Column        Non-Null Count  Dtype \n",
      "---  ------        --------------  ----- \n",
      " 0   company_name  64 non-null     object\n",
      " 1   trips_amount  64 non-null     int64 \n",
      "dtypes: int64(1), object(1)\n",
      "memory usage: 1.1+ KB\n",
      "64\n"
     ]
    }
   ],
   "source": [
    "df_company = pd.read_csv('/datasets/project_sql_result_01.csv')\n",
    "df_company.info()\n",
    "\n",
    "# Verificación de únicos por si hubiera alguno repetido\n",
    "print(df_company['company_name'].nunique())"
   ]
  },
  {
   "cell_type": "markdown",
   "metadata": {},
   "source": [
    "Al parecer los datos contienen el tipo adecuado para trabajar con ellos y al haber 64 datos únicos, no hay repetidos o nulos."
   ]
  },
  {
   "cell_type": "code",
   "execution_count": 3,
   "metadata": {},
   "outputs": [
    {
     "name": "stdout",
     "output_type": "stream",
     "text": [
      "<class 'pandas.core.frame.DataFrame'>\n",
      "RangeIndex: 94 entries, 0 to 93\n",
      "Data columns (total 2 columns):\n",
      " #   Column                 Non-Null Count  Dtype  \n",
      "---  ------                 --------------  -----  \n",
      " 0   dropoff_location_name  94 non-null     object \n",
      " 1   average_trips          94 non-null     float64\n",
      "dtypes: float64(1), object(1)\n",
      "memory usage: 1.6+ KB\n",
      "94\n"
     ]
    }
   ],
   "source": [
    "df_dpoff = pd.read_csv('/datasets/project_sql_result_04.csv')\n",
    "df_dpoff.info()\n",
    "\n",
    "# Verificación de únicos por si hubiera alguno repetido\n",
    "print(df_dpoff['dropoff_location_name'].nunique())"
   ]
  },
  {
   "cell_type": "markdown",
   "metadata": {},
   "source": [
    "Al parecer los datos contienen el tipo adecuado para trabajar con ellos y al haber 64 datos únicos, no hay repetidos o nulos."
   ]
  },
  {
   "cell_type": "code",
   "execution_count": 4,
   "metadata": {},
   "outputs": [
    {
     "data": {
      "text/html": [
       "<div>\n",
       "<style scoped>\n",
       "    .dataframe tbody tr th:only-of-type {\n",
       "        vertical-align: middle;\n",
       "    }\n",
       "\n",
       "    .dataframe tbody tr th {\n",
       "        vertical-align: top;\n",
       "    }\n",
       "\n",
       "    .dataframe thead th {\n",
       "        text-align: right;\n",
       "    }\n",
       "</style>\n",
       "<table border=\"1\" class=\"dataframe\">\n",
       "  <thead>\n",
       "    <tr style=\"text-align: right;\">\n",
       "      <th></th>\n",
       "      <th>dropoff_location_name</th>\n",
       "      <th>average_trips</th>\n",
       "    </tr>\n",
       "  </thead>\n",
       "  <tbody>\n",
       "    <tr>\n",
       "      <th>0</th>\n",
       "      <td>Loop</td>\n",
       "      <td>10727.466667</td>\n",
       "    </tr>\n",
       "    <tr>\n",
       "      <th>1</th>\n",
       "      <td>River North</td>\n",
       "      <td>9523.666667</td>\n",
       "    </tr>\n",
       "    <tr>\n",
       "      <th>2</th>\n",
       "      <td>Streeterville</td>\n",
       "      <td>6664.666667</td>\n",
       "    </tr>\n",
       "    <tr>\n",
       "      <th>3</th>\n",
       "      <td>West Loop</td>\n",
       "      <td>5163.666667</td>\n",
       "    </tr>\n",
       "    <tr>\n",
       "      <th>4</th>\n",
       "      <td>O'Hare</td>\n",
       "      <td>2546.900000</td>\n",
       "    </tr>\n",
       "    <tr>\n",
       "      <th>5</th>\n",
       "      <td>Lake View</td>\n",
       "      <td>2420.966667</td>\n",
       "    </tr>\n",
       "    <tr>\n",
       "      <th>6</th>\n",
       "      <td>Grant Park</td>\n",
       "      <td>2068.533333</td>\n",
       "    </tr>\n",
       "    <tr>\n",
       "      <th>7</th>\n",
       "      <td>Museum Campus</td>\n",
       "      <td>1510.000000</td>\n",
       "    </tr>\n",
       "    <tr>\n",
       "      <th>8</th>\n",
       "      <td>Gold Coast</td>\n",
       "      <td>1364.233333</td>\n",
       "    </tr>\n",
       "    <tr>\n",
       "      <th>9</th>\n",
       "      <td>Sheffield &amp; DePaul</td>\n",
       "      <td>1259.766667</td>\n",
       "    </tr>\n",
       "  </tbody>\n",
       "</table>\n",
       "</div>"
      ],
      "text/plain": [
       "  dropoff_location_name  average_trips\n",
       "0                  Loop   10727.466667\n",
       "1           River North    9523.666667\n",
       "2         Streeterville    6664.666667\n",
       "3             West Loop    5163.666667\n",
       "4                O'Hare    2546.900000\n",
       "5             Lake View    2420.966667\n",
       "6            Grant Park    2068.533333\n",
       "7         Museum Campus    1510.000000\n",
       "8            Gold Coast    1364.233333\n",
       "9    Sheffield & DePaul    1259.766667"
      ]
     },
     "metadata": {},
     "output_type": "display_data"
    },
    {
     "data": {
      "text/plain": [
       "<AxesSubplot:title={'center':'Average trips for dropoff locations for November 2017'}, xlabel='Dropoff Location', ylabel='Average Trips'>"
      ]
     },
     "execution_count": 4,
     "metadata": {},
     "output_type": "execute_result"
    },
    {
     "data": {
      "image/png": "[encoded data removed]",
      "text/plain": [
       "<Figure size 720x432 with 1 Axes>"
      ]
     },
     "metadata": {
      "needs_background": "light"
     },
     "output_type": "display_data"
    }
   ],
   "source": [
    "# grafico de principales barrios mas recorridos\n",
    "df_final = df_dpoff.sort_values(\n",
    "    by='average_trips', ascending=False).reset_index(drop=True)\n",
    "\n",
    "# Asignación a nuevo dataframe los 10 barrios principales\n",
    "df_final = df_final.head(10)\n",
    "display(df_final)\n",
    "\n",
    "# Gráfica de barras para ver los barrios principales\n",
    "df_final.plot(kind='bar', x='dropoff_location_name', y='average_trips', xlabel='Dropoff Location',\n",
    "              ylabel='Average Trips', figsize=(10, 6), color='darkslategray', title='Average trips for dropoff locations for November 2017')"
   ]
  },
  {
   "cell_type": "markdown",
   "metadata": {},
   "source": [
    "Como podemos apreciar en el gráfico, a pesar de que se presentan los 10 destinos mas populares, hay cuatro que sobresalen del resto, que son: 'Loop', 'River North', 'Streeterville' y 'West Loop' con aproximadamente 10 mil, 9 mil, 6 mil y 5 mil, viajes promedio durante el mes de noviembre. Esto quiere decir que al ser las zonas mas concurridas, de seguro estas personas buscaran una tarifa mas accesible para sus viajes, lo que incrementaría la popularidad de algunas empresas de taxis como lo veremos en la siguiente tabla. "
   ]
  },
  {
   "cell_type": "code",
   "execution_count": 5,
   "metadata": {},
   "outputs": [
    {
     "data": {
      "text/html": [
       "<div>\n",
       "<style scoped>\n",
       "    .dataframe tbody tr th:only-of-type {\n",
       "        vertical-align: middle;\n",
       "    }\n",
       "\n",
       "    .dataframe tbody tr th {\n",
       "        vertical-align: top;\n",
       "    }\n",
       "\n",
       "    .dataframe thead th {\n",
       "        text-align: right;\n",
       "    }\n",
       "</style>\n",
       "<table border=\"1\" class=\"dataframe\">\n",
       "  <thead>\n",
       "    <tr style=\"text-align: right;\">\n",
       "      <th></th>\n",
       "      <th>company_name</th>\n",
       "      <th>trips_amount</th>\n",
       "    </tr>\n",
       "  </thead>\n",
       "  <tbody>\n",
       "    <tr>\n",
       "      <th>0</th>\n",
       "      <td>Flash Cab</td>\n",
       "      <td>19558</td>\n",
       "    </tr>\n",
       "    <tr>\n",
       "      <th>1</th>\n",
       "      <td>Taxi Affiliation Services</td>\n",
       "      <td>11422</td>\n",
       "    </tr>\n",
       "    <tr>\n",
       "      <th>2</th>\n",
       "      <td>Medallion Leasing</td>\n",
       "      <td>10367</td>\n",
       "    </tr>\n",
       "    <tr>\n",
       "      <th>3</th>\n",
       "      <td>Yellow Cab</td>\n",
       "      <td>9888</td>\n",
       "    </tr>\n",
       "    <tr>\n",
       "      <th>4</th>\n",
       "      <td>Taxi Affiliation Service Yellow</td>\n",
       "      <td>9299</td>\n",
       "    </tr>\n",
       "    <tr>\n",
       "      <th>5</th>\n",
       "      <td>Chicago Carriage Cab Corp</td>\n",
       "      <td>9181</td>\n",
       "    </tr>\n",
       "    <tr>\n",
       "      <th>6</th>\n",
       "      <td>City Service</td>\n",
       "      <td>8448</td>\n",
       "    </tr>\n",
       "    <tr>\n",
       "      <th>7</th>\n",
       "      <td>Sun Taxi</td>\n",
       "      <td>7701</td>\n",
       "    </tr>\n",
       "    <tr>\n",
       "      <th>8</th>\n",
       "      <td>Star North Management LLC</td>\n",
       "      <td>7455</td>\n",
       "    </tr>\n",
       "    <tr>\n",
       "      <th>9</th>\n",
       "      <td>Blue Ribbon Taxi Association Inc.</td>\n",
       "      <td>5953</td>\n",
       "    </tr>\n",
       "  </tbody>\n",
       "</table>\n",
       "</div>"
      ],
      "text/plain": [
       "                        company_name  trips_amount\n",
       "0                          Flash Cab         19558\n",
       "1          Taxi Affiliation Services         11422\n",
       "2                  Medallion Leasing         10367\n",
       "3                         Yellow Cab          9888\n",
       "4    Taxi Affiliation Service Yellow          9299\n",
       "5          Chicago Carriage Cab Corp          9181\n",
       "6                       City Service          8448\n",
       "7                           Sun Taxi          7701\n",
       "8          Star North Management LLC          7455\n",
       "9  Blue Ribbon Taxi Association Inc.          5953"
      ]
     },
     "metadata": {},
     "output_type": "display_data"
    },
    {
     "data": {
      "text/plain": [
       "<AxesSubplot:title={'center':'Trips amount for main companies for november 15 & 16 of 2017'}, xlabel='Company', ylabel='Trips amount'>"
      ]
     },
     "execution_count": 5,
     "metadata": {},
     "output_type": "execute_result"
    },
    {
     "data": {
      "image/png": "[encoded data removed]",
      "text/plain": [
       "<Figure size 720x432 with 1 Axes>"
      ]
     },
     "metadata": {
      "needs_background": "light"
     },
     "output_type": "display_data"
    }
   ],
   "source": [
    "# grafico de principales barrios mas recorridos por compañía de Taxis\n",
    "df_company_final = df_company.sort_values(\n",
    "    by='trips_amount', ascending=False).reset_index(drop=True)\n",
    "\n",
    "# Asignación a nuevo dataframe los 10 barrios principales\n",
    "df_company_final = df_company_final.head(10)\n",
    "display(df_company_final)\n",
    "\n",
    "# Gráfica de barras para ver la relación entre compañía y cantidad de viajes para el 15 y 16 de noviembre\n",
    "df_company_final.plot(kind='bar', x='company_name', y='trips_amount', xlabel='Company',\n",
    "                      ylabel='Trips amount', figsize=(10, 6), color='darkslategray', title='Trips amount for main companies for november 15 & 16 of 2017')"
   ]
  },
  {
   "cell_type": "markdown",
   "metadata": {},
   "source": [
    "En esta tabla podemos ver que de las 10 empresas mas populares en los días seeccionados se encuentra como número uno 'Flash Cab' llevando casi la mitad mas que cualquier otra empresa de taxi.\n",
    "Como vimos en la tabla anterior de los destinos populares, la gente de seguro busca vehículos que cumplan con sus expectativas de: seguridad, comodidad, servicio y precio. Los datos no mienten y ya que las personas prefieren esta compañía, de seguro cuenta con lo mencionado!"
   ]
  },
  {
   "cell_type": "markdown",
   "metadata": {},
   "source": [
    "### CONCLUSIÓN\n",
    "\n",
    "La primer tabla se grafico el promedio del mes de noviembre para los principales destinos y en la segunda, las principales compañías.\n",
    "Existe una relación que tal vez si se unieran las empresas con los destinos se pudiera comprobar pero con los datos que se tienen, se puede obtener un patrón en cuanto a tráfico.\n",
    "Si observamos  los viajes realizados por la compañía en dos días, los totales son: 19,000, 11,000, 10,000, 9,000... hasta llegar a 5 mil aproximadamente y los viajes promedios a los diferentes destinos por dia es de 10,000, 9,000,  6,000, 5,000... hasta 1,200 aproximadamente.\n",
    "Si hacemos la relacion de dos dias a uno, la mayoría coinciden con la cantidad de viajes realizados y su promedio."
   ]
  },
  {
   "cell_type": "markdown",
   "metadata": {},
   "source": [
    "## Paso 5. Prueba de hipótesis (Python)"
   ]
  },
  {
   "cell_type": "markdown",
   "metadata": {},
   "source": [
    "Hipótesis nula (H<sub>0</sub>): La duración promedio de los viajes desde el Loop hasta el Aeropuerto Internacional O'Hare permanece igual los sábados lluviosos.\n",
    "\n",
    "Hipótesis alternativa (H<sub>1</sub>): La duración promedio de los viajes desde el Loop hasta el Aeropuerto Internacional O'Hare cambia los sábados lluviosos."
   ]
  },
  {
   "cell_type": "code",
   "execution_count": 6,
   "metadata": {},
   "outputs": [
    {
     "name": "stdout",
     "output_type": "stream",
     "text": [
      "<class 'pandas.core.frame.DataFrame'>\n",
      "RangeIndex: 1068 entries, 0 to 1067\n",
      "Data columns (total 3 columns):\n",
      " #   Column              Non-Null Count  Dtype  \n",
      "---  ------              --------------  -----  \n",
      " 0   start_ts            1068 non-null   object \n",
      " 1   weather_conditions  1068 non-null   object \n",
      " 2   duration_seconds    1068 non-null   float64\n",
      "dtypes: float64(1), object(2)\n",
      "memory usage: 25.2+ KB\n"
     ]
    }
   ],
   "source": [
    "# Información acerca del dataframe\n",
    "df_weather = pd.read_csv('/datasets/project_sql_result_07.csv')\n",
    "df_weather.info()"
   ]
  },
  {
   "cell_type": "code",
   "execution_count": 7,
   "metadata": {},
   "outputs": [
    {
     "data": {
      "image/png": "[encoded data removed]",
      "text/plain": [
       "<Figure size 432x288 with 1 Axes>"
      ]
     },
     "metadata": {
      "needs_background": "light"
     },
     "output_type": "display_data"
    },
    {
     "name": "stdout",
     "output_type": "stream",
     "text": [
      "El tiempo mínimo en segundos es de: 0.0\n",
      "El tiempo máximo en segundos es de: 7440.0\n"
     ]
    }
   ],
   "source": [
    "# Revisión de datos para revisar valores atípicos.\n",
    "sns.boxplot(x=df_weather['duration_seconds'])\n",
    "plt.xlabel('Travel time in seconds')\n",
    "plt.title('Travel time')\n",
    "plt.show()\n",
    "print('El tiempo mínimo en segundos es de:',\n",
    "      df_weather['duration_seconds'].min())\n",
    "print('El tiempo máximo en segundos es de:',\n",
    "      df_weather['duration_seconds'].max())"
   ]
  },
  {
   "cell_type": "code",
   "execution_count": 8,
   "metadata": {},
   "outputs": [
    {
     "data": {
      "image/png": "[encoded data removed]",
      "text/plain": [
       "<Figure size 432x288 with 1 Axes>"
      ]
     },
     "metadata": {
      "needs_background": "light"
     },
     "output_type": "display_data"
    },
    {
     "name": "stdout",
     "output_type": "stream",
     "text": [
      "El tiempo mínimo en segundos es de: 60.0\n",
      "El tiempo máximo en segundos es de: 7440.0\n"
     ]
    }
   ],
   "source": [
    "# Debido a que el viaje mínimo es de 0 segundos,siendo esto imposible, se eliminará este valor.\n",
    "df_weather = df_weather[(df_weather['duration_seconds'] > 0)]\n",
    "\n",
    "# Revisión de datos para revisar valores atípicos.\n",
    "sns.boxplot(x=df_weather['duration_seconds'])\n",
    "plt.xlabel('Travel time in seconds')\n",
    "plt.title('Travel time')\n",
    "plt.show()\n",
    "print('El tiempo mínimo en segundos es de:',\n",
    "      df_weather['duration_seconds'].min())\n",
    "print('El tiempo máximo en segundos es de:',\n",
    "      df_weather['duration_seconds'].max())"
   ]
  },
  {
   "cell_type": "markdown",
   "metadata": {},
   "source": [
    "Ahora se cuenta con un DataFrame con datos mas coherentes sin tiempo = 0 seg."
   ]
  },
  {
   "cell_type": "markdown",
   "metadata": {},
   "source": [
    "El tipo de dato de tiempo es object, así que se cambiará a datetime"
   ]
  },
  {
   "cell_type": "code",
   "execution_count": 9,
   "metadata": {},
   "outputs": [],
   "source": [
    "# Conversión de columna start_ts a formato date\n",
    "df_weather['start_ts'] = pd.to_datetime(\n",
    "    df_weather['start_ts'], format=\"%Y-%m-%d %H:%M:%S\")"
   ]
  },
  {
   "cell_type": "code",
   "execution_count": 10,
   "metadata": {},
   "outputs": [],
   "source": [
    "# Separación de dataframe para datos cuyo 'weather condition' sea bad y sea en dia sabado\n",
    "saturday_bad_weather = df_weather[(df_weather['start_ts'].dt.dayofweek == 5) & (\n",
    "    df_weather['weather_conditions'] == 'Bad')].reset_index(drop=True)"
   ]
  },
  {
   "cell_type": "code",
   "execution_count": 11,
   "metadata": {},
   "outputs": [],
   "source": [
    "# Separación de dataframe para datos cuyo 'weather condition' no sean 'bad'\n",
    "else_weather = df_weather[(df_weather['weather_conditions'] != 'Bad')]"
   ]
  },
  {
   "cell_type": "markdown",
   "metadata": {},
   "source": [
    "Antes de comprobar las hipótesis del ejercicio se verificará si hay igualdad o diferencias de varianzas. Así que estableceremos dos hipótesis para el test de levene:\n",
    "\n",
    "Hipótesis nula (H<sub>0</sub>): La varianza entre los dos dataframes es similar.\n",
    "\n",
    "Hipótesis alternativa (H<sub>1</sub>): La varianza entre los dos dataframes es diferente."
   ]
  },
  {
   "cell_type": "code",
   "execution_count": 14,
   "metadata": {},
   "outputs": [
    {
     "name": "stdout",
     "output_type": "stream",
     "text": [
      "Estadístico de Levene: 0.18319196347283054\n",
      "Valor p: 0.6687312920630069\n",
      "La varianza entre los dos dataframes es similar.\n"
     ]
    }
   ],
   "source": [
    "# Test de levene para comprobar si las varianzas son iguales o diferentes.\n",
    "\n",
    "statistic, p_value = levene(\n",
    "    saturday_bad_weather['duration_seconds'], else_weather['duration_seconds'])\n",
    "\n",
    "\n",
    "print(f\"Estadístico de Levene: {statistic}\")\n",
    "print(f\"Valor p: {p_value}\")\n",
    "\n",
    "alpha = 0.05\n",
    "if p_value < alpha:\n",
    "    print(\"Se rechaza la hipótesis nula. Hay evidencia de desigualdad de varianzas.\")\n",
    "else:\n",
    "    print(\"La varianza entre los dos dataframes es similar.\")"
   ]
  },
  {
   "cell_type": "markdown",
   "metadata": {},
   "source": [
    "Dado que la varianza se puede considerar similar, se puede seguir con la comprobación de hipótesis"
   ]
  },
  {
   "cell_type": "code",
   "execution_count": 13,
   "metadata": {},
   "outputs": [
    {
     "name": "stdout",
     "output_type": "stream",
     "text": [
      "valor p:  1.3318772977743245e-11\n",
      "La duración promedio de los viajes desde el Loop hasta el Aeropuerto Internacional O'Hare cambia los sábados lluviosos.\n"
     ]
    }
   ],
   "source": [
    "# Para la prueba de hipótesis se establecerá un alfa de 0.05\n",
    "alpha = 0.05\n",
    "\n",
    "result = st.ttest_ind(\n",
    "    saturday_bad_weather['duration_seconds'], else_weather['duration_seconds'])\n",
    "print('valor p: ', result.pvalue)\n",
    "\n",
    "if result.pvalue < alpha:\n",
    "    print(\"La duración promedio de los viajes desde el Loop hasta el Aeropuerto Internacional O'Hare cambia los sábados lluviosos.\")\n",
    "else:\n",
    "    print(\"La duración promedio de los viajes desde el Loop hasta el Aeropuerto Internacional O'Hare permanece igual los sábados lluviosos.\")"
   ]
  },
  {
   "cell_type": "markdown",
   "metadata": {},
   "source": [
    "### CONCLUSIÓN\n",
    "Como podemos ver el valor de p es demasiado pequeño, asi que se descarta la hipótesis nula que establece que la duración a los viajes es la misma con un buen clima y se demuestra que es diferente."
   ]
  }
 ],
 "metadata": {
  "kernelspec": {
   "display_name": "Python 3 (ipykernel)",
   "language": "python",
   "name": "python3"
  },
  "language_info": {
   "codemirror_mode": {
    "name": "ipython",
    "version": 3
   },
   "file_extension": ".py",
   "mimetype": "text/x-python",
   "name": "python",
   "nbconvert_exporter": "python",
   "pygments_lexer": "ipython3",
   "version": "3.9.19"
  },
  "toc": {
   "base_numbering": 1,
   "nav_menu": {},
   "number_sections": true,
   "sideBar": true,
   "skip_h1_title": true,
   "title_cell": "Table of Contents",
   "title_sidebar": "Contents",
   "toc_cell": false,
   "toc_position": {},
   "toc_section_display": true,
   "toc_window_display": false
  }
 },
 "nbformat": 4,
 "nbformat_minor": 2
}
